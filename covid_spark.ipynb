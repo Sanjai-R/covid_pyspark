{
 "cells": [
  {
   "cell_type": "markdown",
   "metadata": {},
   "source": [
    "#### **Import Statements**\n"
   ]
  },
  {
   "cell_type": "code",
   "execution_count": 22,
   "metadata": {},
   "outputs": [],
   "source": [
    "from pyspark.sql import SparkSession\n",
    "from pyspark.sql.functions import lower, col, sum, to_date,  month,lit,desc,to_timestamp\n",
    "import calendar"
   ]
  },
  {
   "cell_type": "markdown",
   "metadata": {},
   "source": [
    "#### **Initializations of DF**\n"
   ]
  },
  {
   "cell_type": "code",
   "execution_count": 23,
   "metadata": {},
   "outputs": [],
   "source": [
    "spark = SparkSession.builder.appName(\"covid\").getOrCreate()\n",
    "spark.conf.set(\"spark.sql.repl.eagerEval.enabled\", True)"
   ]
  },
  {
   "cell_type": "markdown",
   "metadata": {},
   "source": [
    "#### **Read Data**\n"
   ]
  },
  {
   "cell_type": "code",
   "execution_count": 24,
   "metadata": {},
   "outputs": [
    {
     "data": {
      "text/html": [
       "<table border='1'>\n",
       "<tr><th>Date</th><th>Name of State / UT</th><th>Latitude</th><th>Longitude</th><th>Total Confirmed cases</th><th>Death</th><th>Cured/Discharged/Migrated</th><th>New cases</th><th>New deaths</th><th>New recovered</th></tr>\n",
       "<tr><td>2020-01-30</td><td>Kerala</td><td>10.8505</td><td>76.2711</td><td>1.0</td><td>0</td><td>0.0</td><td>0</td><td>0</td><td>0</td></tr>\n",
       "<tr><td>2020-01-31</td><td>Kerala</td><td>10.8505</td><td>76.2711</td><td>1.0</td><td>0</td><td>0.0</td><td>0</td><td>0</td><td>0</td></tr>\n",
       "<tr><td>2020-02-01</td><td>Kerala</td><td>10.8505</td><td>76.2711</td><td>2.0</td><td>0</td><td>0.0</td><td>1</td><td>0</td><td>0</td></tr>\n",
       "<tr><td>2020-02-02</td><td>Kerala</td><td>10.8505</td><td>76.2711</td><td>3.0</td><td>0</td><td>0.0</td><td>1</td><td>0</td><td>0</td></tr>\n",
       "<tr><td>2020-02-03</td><td>Kerala</td><td>10.8505</td><td>76.2711</td><td>3.0</td><td>0</td><td>0.0</td><td>0</td><td>0</td><td>0</td></tr>\n",
       "<tr><td>2020-02-04</td><td>Kerala</td><td>10.8505</td><td>76.2711</td><td>3.0</td><td>0</td><td>0.0</td><td>0</td><td>0</td><td>0</td></tr>\n",
       "<tr><td>2020-02-05</td><td>Kerala</td><td>10.8505</td><td>76.2711</td><td>3.0</td><td>0</td><td>0.0</td><td>0</td><td>0</td><td>0</td></tr>\n",
       "<tr><td>2020-02-06</td><td>Kerala</td><td>10.8505</td><td>76.2711</td><td>3.0</td><td>0</td><td>0.0</td><td>0</td><td>0</td><td>0</td></tr>\n",
       "<tr><td>2020-02-07</td><td>Kerala</td><td>10.8505</td><td>76.2711</td><td>3.0</td><td>0</td><td>0.0</td><td>0</td><td>0</td><td>0</td></tr>\n",
       "<tr><td>2020-02-08</td><td>Kerala</td><td>10.8505</td><td>76.2711</td><td>3.0</td><td>0</td><td>0.0</td><td>0</td><td>0</td><td>0</td></tr>\n",
       "<tr><td>2020-02-09</td><td>Kerala</td><td>10.8505</td><td>76.2711</td><td>3.0</td><td>0</td><td>0.0</td><td>0</td><td>0</td><td>0</td></tr>\n",
       "<tr><td>2020-02-10</td><td>Kerala</td><td>10.8505</td><td>76.2711</td><td>3.0</td><td>0</td><td>0.0</td><td>0</td><td>0</td><td>0</td></tr>\n",
       "<tr><td>2020-02-11</td><td>Kerala</td><td>10.8505</td><td>76.2711</td><td>3.0</td><td>0</td><td>0.0</td><td>0</td><td>0</td><td>0</td></tr>\n",
       "<tr><td>2020-02-12</td><td>Kerala</td><td>10.8505</td><td>76.2711</td><td>3.0</td><td>0</td><td>0.0</td><td>0</td><td>0</td><td>0</td></tr>\n",
       "<tr><td>2020-02-13</td><td>Kerala</td><td>10.8505</td><td>76.2711</td><td>3.0</td><td>0</td><td>0.0</td><td>0</td><td>0</td><td>0</td></tr>\n",
       "<tr><td>2020-02-14</td><td>Kerala</td><td>10.8505</td><td>76.2711</td><td>3.0</td><td>0</td><td>0.0</td><td>0</td><td>0</td><td>0</td></tr>\n",
       "<tr><td>2020-02-15</td><td>Kerala</td><td>10.8505</td><td>76.2711</td><td>3.0</td><td>0</td><td>0.0</td><td>0</td><td>0</td><td>0</td></tr>\n",
       "<tr><td>2020-02-16</td><td>Kerala</td><td>10.8505</td><td>76.2711</td><td>3.0</td><td>0</td><td>0.0</td><td>0</td><td>0</td><td>0</td></tr>\n",
       "<tr><td>2020-02-17</td><td>Kerala</td><td>10.8505</td><td>76.2711</td><td>3.0</td><td>0</td><td>0.0</td><td>0</td><td>0</td><td>0</td></tr>\n",
       "<tr><td>2020-02-18</td><td>Kerala</td><td>10.8505</td><td>76.2711</td><td>3.0</td><td>0</td><td>0.0</td><td>0</td><td>0</td><td>0</td></tr>\n",
       "</table>\n",
       "only showing top 20 rows\n"
      ],
      "text/plain": [
       "+----------+------------------+--------+---------+---------------------+-----+-------------------------+---------+----------+-------------+\n",
       "|      Date|Name of State / UT|Latitude|Longitude|Total Confirmed cases|Death|Cured/Discharged/Migrated|New cases|New deaths|New recovered|\n",
       "+----------+------------------+--------+---------+---------------------+-----+-------------------------+---------+----------+-------------+\n",
       "|2020-01-30|            Kerala| 10.8505|  76.2711|                  1.0|    0|                      0.0|        0|         0|            0|\n",
       "|2020-01-31|            Kerala| 10.8505|  76.2711|                  1.0|    0|                      0.0|        0|         0|            0|\n",
       "|2020-02-01|            Kerala| 10.8505|  76.2711|                  2.0|    0|                      0.0|        1|         0|            0|\n",
       "|2020-02-02|            Kerala| 10.8505|  76.2711|                  3.0|    0|                      0.0|        1|         0|            0|\n",
       "|2020-02-03|            Kerala| 10.8505|  76.2711|                  3.0|    0|                      0.0|        0|         0|            0|\n",
       "|2020-02-04|            Kerala| 10.8505|  76.2711|                  3.0|    0|                      0.0|        0|         0|            0|\n",
       "|2020-02-05|            Kerala| 10.8505|  76.2711|                  3.0|    0|                      0.0|        0|         0|            0|\n",
       "|2020-02-06|            Kerala| 10.8505|  76.2711|                  3.0|    0|                      0.0|        0|         0|            0|\n",
       "|2020-02-07|            Kerala| 10.8505|  76.2711|                  3.0|    0|                      0.0|        0|         0|            0|\n",
       "|2020-02-08|            Kerala| 10.8505|  76.2711|                  3.0|    0|                      0.0|        0|         0|            0|\n",
       "|2020-02-09|            Kerala| 10.8505|  76.2711|                  3.0|    0|                      0.0|        0|         0|            0|\n",
       "|2020-02-10|            Kerala| 10.8505|  76.2711|                  3.0|    0|                      0.0|        0|         0|            0|\n",
       "|2020-02-11|            Kerala| 10.8505|  76.2711|                  3.0|    0|                      0.0|        0|         0|            0|\n",
       "|2020-02-12|            Kerala| 10.8505|  76.2711|                  3.0|    0|                      0.0|        0|         0|            0|\n",
       "|2020-02-13|            Kerala| 10.8505|  76.2711|                  3.0|    0|                      0.0|        0|         0|            0|\n",
       "|2020-02-14|            Kerala| 10.8505|  76.2711|                  3.0|    0|                      0.0|        0|         0|            0|\n",
       "|2020-02-15|            Kerala| 10.8505|  76.2711|                  3.0|    0|                      0.0|        0|         0|            0|\n",
       "|2020-02-16|            Kerala| 10.8505|  76.2711|                  3.0|    0|                      0.0|        0|         0|            0|\n",
       "|2020-02-17|            Kerala| 10.8505|  76.2711|                  3.0|    0|                      0.0|        0|         0|            0|\n",
       "|2020-02-18|            Kerala| 10.8505|  76.2711|                  3.0|    0|                      0.0|        0|         0|            0|\n",
       "+----------+------------------+--------+---------+---------------------+-----+-------------------------+---------+----------+-------------+\n",
       "only showing top 20 rows"
      ]
     },
     "execution_count": 24,
     "metadata": {},
     "output_type": "execute_result"
    }
   ],
   "source": [
    "df = spark.read.csv(\"./data/covid.csv\", header=True, inferSchema=True)\n",
    "df"
   ]
  },
  {
   "cell_type": "markdown",
   "metadata": {},
   "source": [
    "#### **1.Convert all state names to lowercase**\n"
   ]
  },
  {
   "cell_type": "code",
   "execution_count": 25,
   "metadata": {},
   "outputs": [
    {
     "data": {
      "text/html": [
       "<table border='1'>\n",
       "<tr><th>Date</th><th>Name of State / UT</th><th>Latitude</th><th>Longitude</th><th>Total Confirmed cases</th><th>Death</th><th>Cured/Discharged/Migrated</th><th>New cases</th><th>New deaths</th><th>New recovered</th></tr>\n",
       "<tr><td>2020-01-30</td><td>kerala</td><td>10.8505</td><td>76.2711</td><td>1.0</td><td>0</td><td>0.0</td><td>0</td><td>0</td><td>0</td></tr>\n",
       "<tr><td>2020-01-31</td><td>kerala</td><td>10.8505</td><td>76.2711</td><td>1.0</td><td>0</td><td>0.0</td><td>0</td><td>0</td><td>0</td></tr>\n",
       "<tr><td>2020-02-01</td><td>kerala</td><td>10.8505</td><td>76.2711</td><td>2.0</td><td>0</td><td>0.0</td><td>1</td><td>0</td><td>0</td></tr>\n",
       "<tr><td>2020-02-02</td><td>kerala</td><td>10.8505</td><td>76.2711</td><td>3.0</td><td>0</td><td>0.0</td><td>1</td><td>0</td><td>0</td></tr>\n",
       "<tr><td>2020-02-03</td><td>kerala</td><td>10.8505</td><td>76.2711</td><td>3.0</td><td>0</td><td>0.0</td><td>0</td><td>0</td><td>0</td></tr>\n",
       "<tr><td>2020-02-04</td><td>kerala</td><td>10.8505</td><td>76.2711</td><td>3.0</td><td>0</td><td>0.0</td><td>0</td><td>0</td><td>0</td></tr>\n",
       "<tr><td>2020-02-05</td><td>kerala</td><td>10.8505</td><td>76.2711</td><td>3.0</td><td>0</td><td>0.0</td><td>0</td><td>0</td><td>0</td></tr>\n",
       "<tr><td>2020-02-06</td><td>kerala</td><td>10.8505</td><td>76.2711</td><td>3.0</td><td>0</td><td>0.0</td><td>0</td><td>0</td><td>0</td></tr>\n",
       "<tr><td>2020-02-07</td><td>kerala</td><td>10.8505</td><td>76.2711</td><td>3.0</td><td>0</td><td>0.0</td><td>0</td><td>0</td><td>0</td></tr>\n",
       "<tr><td>2020-02-08</td><td>kerala</td><td>10.8505</td><td>76.2711</td><td>3.0</td><td>0</td><td>0.0</td><td>0</td><td>0</td><td>0</td></tr>\n",
       "<tr><td>2020-02-09</td><td>kerala</td><td>10.8505</td><td>76.2711</td><td>3.0</td><td>0</td><td>0.0</td><td>0</td><td>0</td><td>0</td></tr>\n",
       "<tr><td>2020-02-10</td><td>kerala</td><td>10.8505</td><td>76.2711</td><td>3.0</td><td>0</td><td>0.0</td><td>0</td><td>0</td><td>0</td></tr>\n",
       "<tr><td>2020-02-11</td><td>kerala</td><td>10.8505</td><td>76.2711</td><td>3.0</td><td>0</td><td>0.0</td><td>0</td><td>0</td><td>0</td></tr>\n",
       "<tr><td>2020-02-12</td><td>kerala</td><td>10.8505</td><td>76.2711</td><td>3.0</td><td>0</td><td>0.0</td><td>0</td><td>0</td><td>0</td></tr>\n",
       "<tr><td>2020-02-13</td><td>kerala</td><td>10.8505</td><td>76.2711</td><td>3.0</td><td>0</td><td>0.0</td><td>0</td><td>0</td><td>0</td></tr>\n",
       "<tr><td>2020-02-14</td><td>kerala</td><td>10.8505</td><td>76.2711</td><td>3.0</td><td>0</td><td>0.0</td><td>0</td><td>0</td><td>0</td></tr>\n",
       "<tr><td>2020-02-15</td><td>kerala</td><td>10.8505</td><td>76.2711</td><td>3.0</td><td>0</td><td>0.0</td><td>0</td><td>0</td><td>0</td></tr>\n",
       "<tr><td>2020-02-16</td><td>kerala</td><td>10.8505</td><td>76.2711</td><td>3.0</td><td>0</td><td>0.0</td><td>0</td><td>0</td><td>0</td></tr>\n",
       "<tr><td>2020-02-17</td><td>kerala</td><td>10.8505</td><td>76.2711</td><td>3.0</td><td>0</td><td>0.0</td><td>0</td><td>0</td><td>0</td></tr>\n",
       "<tr><td>2020-02-18</td><td>kerala</td><td>10.8505</td><td>76.2711</td><td>3.0</td><td>0</td><td>0.0</td><td>0</td><td>0</td><td>0</td></tr>\n",
       "</table>\n",
       "only showing top 20 rows\n"
      ],
      "text/plain": [
       "+----------+------------------+--------+---------+---------------------+-----+-------------------------+---------+----------+-------------+\n",
       "|      Date|Name of State / UT|Latitude|Longitude|Total Confirmed cases|Death|Cured/Discharged/Migrated|New cases|New deaths|New recovered|\n",
       "+----------+------------------+--------+---------+---------------------+-----+-------------------------+---------+----------+-------------+\n",
       "|2020-01-30|            kerala| 10.8505|  76.2711|                  1.0|    0|                      0.0|        0|         0|            0|\n",
       "|2020-01-31|            kerala| 10.8505|  76.2711|                  1.0|    0|                      0.0|        0|         0|            0|\n",
       "|2020-02-01|            kerala| 10.8505|  76.2711|                  2.0|    0|                      0.0|        1|         0|            0|\n",
       "|2020-02-02|            kerala| 10.8505|  76.2711|                  3.0|    0|                      0.0|        1|         0|            0|\n",
       "|2020-02-03|            kerala| 10.8505|  76.2711|                  3.0|    0|                      0.0|        0|         0|            0|\n",
       "|2020-02-04|            kerala| 10.8505|  76.2711|                  3.0|    0|                      0.0|        0|         0|            0|\n",
       "|2020-02-05|            kerala| 10.8505|  76.2711|                  3.0|    0|                      0.0|        0|         0|            0|\n",
       "|2020-02-06|            kerala| 10.8505|  76.2711|                  3.0|    0|                      0.0|        0|         0|            0|\n",
       "|2020-02-07|            kerala| 10.8505|  76.2711|                  3.0|    0|                      0.0|        0|         0|            0|\n",
       "|2020-02-08|            kerala| 10.8505|  76.2711|                  3.0|    0|                      0.0|        0|         0|            0|\n",
       "|2020-02-09|            kerala| 10.8505|  76.2711|                  3.0|    0|                      0.0|        0|         0|            0|\n",
       "|2020-02-10|            kerala| 10.8505|  76.2711|                  3.0|    0|                      0.0|        0|         0|            0|\n",
       "|2020-02-11|            kerala| 10.8505|  76.2711|                  3.0|    0|                      0.0|        0|         0|            0|\n",
       "|2020-02-12|            kerala| 10.8505|  76.2711|                  3.0|    0|                      0.0|        0|         0|            0|\n",
       "|2020-02-13|            kerala| 10.8505|  76.2711|                  3.0|    0|                      0.0|        0|         0|            0|\n",
       "|2020-02-14|            kerala| 10.8505|  76.2711|                  3.0|    0|                      0.0|        0|         0|            0|\n",
       "|2020-02-15|            kerala| 10.8505|  76.2711|                  3.0|    0|                      0.0|        0|         0|            0|\n",
       "|2020-02-16|            kerala| 10.8505|  76.2711|                  3.0|    0|                      0.0|        0|         0|            0|\n",
       "|2020-02-17|            kerala| 10.8505|  76.2711|                  3.0|    0|                      0.0|        0|         0|            0|\n",
       "|2020-02-18|            kerala| 10.8505|  76.2711|                  3.0|    0|                      0.0|        0|         0|            0|\n",
       "+----------+------------------+--------+---------+---------------------+-----+-------------------------+---------+----------+-------------+\n",
       "only showing top 20 rows"
      ]
     },
     "execution_count": 25,
     "metadata": {},
     "output_type": "execute_result"
    }
   ],
   "source": [
    "df.withColumn(\"Name of State / UT\", lower(col(\"Name of State / UT\")))"
   ]
  },
  {
   "cell_type": "markdown",
   "metadata": {},
   "source": [
    "#### **2.The day had a great number of covid cases**\n"
   ]
  },
  {
   "cell_type": "code",
   "execution_count": 26,
   "metadata": {},
   "outputs": [
    {
     "data": {
      "text/html": [
       "<table border='1'>\n",
       "<tr><th>Date</th><th>Total Confirmed cases</th></tr>\n",
       "<tr><td>2020-08-06</td><td>468265.0</td></tr>\n",
       "</table>\n"
      ],
      "text/plain": [
       "+----------+---------------------+\n",
       "|      Date|Total Confirmed cases|\n",
       "+----------+---------------------+\n",
       "|2020-08-06|             468265.0|\n",
       "+----------+---------------------+"
      ]
     },
     "execution_count": 26,
     "metadata": {},
     "output_type": "execute_result"
    }
   ],
   "source": [
    "df.orderBy('Total Confirmed cases', ascending=False).select(\n",
    "    'Date', 'Total Confirmed cases').limit(1)"
   ]
  },
  {
   "cell_type": "markdown",
   "metadata": {},
   "source": [
    "#### **3.The state has the second-largest number of covid cases**\n"
   ]
  },
  {
   "cell_type": "code",
   "execution_count": 27,
   "metadata": {},
   "outputs": [
    {
     "name": "stdout",
     "output_type": "stream",
     "text": [
      "Maharashtra has the second highest number of cases with 15192247.0 cases\n"
     ]
    }
   ],
   "source": [
    "df1 = df.groupBy('Name of State / UT').sum('Total Confirmed cases').orderBy(\n",
    "    'sum(Total Confirmed cases)', ascending=False).collect()\n",
    "print(f\"{df1[0][0]} has the second highest number of cases with {df1[0][1]} cases\")"
   ]
  },
  {
   "cell_type": "markdown",
   "metadata": {},
   "source": [
    "#### **4.Which Union Territory has the least number of death**\n"
   ]
  },
  {
   "cell_type": "code",
   "execution_count": 28,
   "metadata": {},
   "outputs": [
    {
     "name": "stdout",
     "output_type": "stream",
     "text": [
      "+------------------+------------+\n",
      "|Name of State / UT|Total Deaths|\n",
      "+------------------+------------+\n",
      "|           Mizoram|           0|\n",
      "+------------------+------------+\n",
      "\n"
     ]
    }
   ],
   "source": [
    "result_df = df.groupBy('Name of State / UT').agg(sum(col('Death').cast(\n",
    "    \"integer\")).alias('Total Deaths')).orderBy('Total Deaths').limit(1)\n",
    "result_df.show()"
   ]
  },
  {
   "cell_type": "markdown",
   "metadata": {},
   "source": [
    "#### **5.The state has the lowest Death to Total Confirmed cases ration**\n"
   ]
  },
  {
   "cell_type": "code",
   "execution_count": 29,
   "metadata": {},
   "outputs": [
    {
     "name": "stdout",
     "output_type": "stream",
     "text": [
      "Puducherry has the lowest ratio of deaths to confirmed cases \n"
     ]
    }
   ],
   "source": [
    "df_with_ratio = df.withColumn(\"DeathToConfirmedRatio\", col(\"Death\") / col(\"Total Confirmed cases\"))\n",
    "min_ratio_row = df_with_ratio.orderBy(\"DeathToConfirmedRatio\").first()\n",
    "state_with_lowest_ratio = min_ratio_row[\"Name of State / UT\"]\n",
    "print(f\"{state_with_lowest_ratio} has the lowest ratio of deaths to confirmed cases \")\n"
   ]
  },
  {
   "cell_type": "markdown",
   "metadata": {},
   "source": [
    "#### **6.Find which month the more Newer recovered cases**\n"
   ]
  },
  {
   "cell_type": "code",
   "execution_count": 30,
   "metadata": {},
   "outputs": [
    {
     "data": {
      "text/plain": [
       "'July'"
      ]
     },
     "execution_count": 30,
     "metadata": {},
     "output_type": "execute_result"
    }
   ],
   "source": [
    "month = df.withColumn(\"Month\", lit(month(col(\"Date\")))).groupBy(\"Month\").agg(sum(col(\"New recovered\")).alias(\"cases\")).orderBy(desc(\"cases\")).limit(1).collect()[0][\"Month\"]\n",
    "calendar.month_name[month]"
   ]
  },
  {
   "cell_type": "code",
   "execution_count": null,
   "metadata": {},
   "outputs": [],
   "source": []
  }
 ],
 "metadata": {
  "kernelspec": {
   "display_name": "base",
   "language": "python",
   "name": "python3"
  },
  "language_info": {
   "codemirror_mode": {
    "name": "ipython",
    "version": 3
   },
   "file_extension": ".py",
   "mimetype": "text/x-python",
   "name": "python",
   "nbconvert_exporter": "python",
   "pygments_lexer": "ipython3",
   "version": "3.11.3"
  },
  "orig_nbformat": 4
 },
 "nbformat": 4,
 "nbformat_minor": 2
}
